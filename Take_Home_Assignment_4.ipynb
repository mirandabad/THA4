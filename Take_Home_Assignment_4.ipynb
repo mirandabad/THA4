{
  "nbformat": 4,
  "nbformat_minor": 0,
  "metadata": {
    "colab": {
      "name": "Take Home Assignment 4.ipynb",
      "version": "0.3.2",
      "provenance": [],
      "include_colab_link": true
    },
    "kernelspec": {
      "name": "python3",
      "display_name": "Python 3"
    }
  },
  "cells": [
    {
      "cell_type": "markdown",
      "metadata": {
        "id": "view-in-github",
        "colab_type": "text"
      },
      "source": [
        "<a href=\"https://colab.research.google.com/github/mirandabad/THA4/blob/master/Take_Home_Assignment_4.ipynb\" target=\"_parent\"><img src=\"https://colab.research.google.com/assets/colab-badge.svg\" alt=\"Open In Colab\"/></a>"
      ]
    },
    {
      "metadata": {
        "id": "4xwL0LtJ9erZ",
        "colab_type": "text"
      },
      "cell_type": "markdown",
      "source": [
        "# **Take Home Assignment 4**\n",
        "- Complete THA3 but with a different research question and dataset.\n",
        "- Build a workflow showing all important phases/components of your work.\n",
        "- Update your GitHub repository accordingly, indicate the files of this assignment in the readme file.\n",
        "---"
      ]
    },
    {
      "metadata": {
        "id": "eZs6_e0OHR3V",
        "colab_type": "text"
      },
      "cell_type": "markdown",
      "source": [
        "##**Research Question:** \n",
        "As the number of Texas children (aged 0-17) receiving aid from the Supplemental Nutrition Assistance Program (SNAP) changes, is there any relation with the level of food insecurity for children in Texas?"
      ]
    },
    {
      "metadata": {
        "id": "7xVEBVrWGyq1",
        "colab_type": "text"
      },
      "cell_type": "markdown",
      "source": [
        "##**Data Sources**\n",
        "\n",
        "The three data sources used are all from the Annie E. Casey Foundation's [Kids Count Data Center](https://datacenter.kidscount.org/). Kids Count collects natioanl data on children and families. Texas specific data is collected by the [Center for Public Policy Priorities](https://forabettertexas.org/kidscount.html)\n",
        "> - The first data source contains data on [Child Food Insecurity in Texas, 2010-2016](https://datacenter.kidscount.org/data/tables/7889-child-food-insecurity?loc=45&loct=2#detailed/2/any/false/870,573,869,36,868,867,133/any/15218,15219). The data contains the number and precentage of children estimated to be experiencing food insecurity in Texas in the years 2010-2016. To be considered food insecure a child must be \"living in a household that has difficulty meeting basic food needs, as defined by the Census Bureau's Current Population Survey.\" (Kids Count)\n",
        ">>- Kids Count/CPPP's source of the data was from [Feeding America's](https://www.feedingamerica.org/) analysis of Current Population Survey data on food-insecure households and American Community survey data on household income, unemployment, poverty, homeownership, race and ethnicity. They note that state totals do not reflect the sum of all counties in Texas and are aggregated from congressional district data.\n",
        "\n",
        "> - The second data source contains [Supplemental Nutrition Assistance Program (SNAP)](https://datacenter.kidscount.org/data/tables/3148-supplemental-nutrition-assistance-snap-formerly-food-stamps-recipients-0-17?loc=45&loct=2l) numbers and percentages for Texas children (under the age of 18) enrolled in SNAP in the years 2004-2013.\n",
        "> - The third data source contains [SNAP](https://datacenter.kidscount.org/data/tables/8984-supplemental-nutrition-assistance-snap-formerly-food-stamps-recipients-0-17?loc=45&loct=2) numbers and perecentages for Texas children from 2014-2015.\n",
        ">>- Data from both the second and third sources come from the Texas [Health and Human Services Commission](https://hhs.texas.gov) \n",
        "> - *Note: All of the above data sets have been downloaded and saved as \"data1.xls,\" \"data2.xlsx,\" and \"data3.xlsx\" respectively. Merged data includes state numbers from SNAP Youth Recipients, 2004-2013  and Snap Youth Recipients, 2014-2015 (i.e., \"data2.xlsx\" and \"data3.xlsx\").*"
      ]
    },
    {
      "metadata": {
        "id": "wQwnNuGFlve9",
        "colab_type": "text"
      },
      "cell_type": "markdown",
      "source": [
        "##**Importing Child Food Insecurity Data**\n",
        "Import state specific info for child food insecurity numbers and percentages (i.e., \"Location\" = \"Texas\") for the years (i.e., \"Time Frame\") 2010-2016."
      ]
    },
    {
      "metadata": {
        "id": "el7OfmCu9HOq",
        "colab_type": "code",
        "colab": {
          "base_uri": "https://localhost:8080/",
          "height": 289
        },
        "outputId": "9c662a7a-7f08-4cb6-f46d-4f56d245da8e"
      },
      "cell_type": "code",
      "source": [
        "import pandas as pd\n",
        "\n",
        "#The raw dataset was downloaded at: https://datacenter.kidscount.org/rawdata.axd?ind=7889&loc=45\n",
        "\n",
        "data1 = pd.read_excel(\"data1.xlsx\")\n",
        "data1.dropna(how='all')\n",
        "\n",
        "print(\"First 14\")\n",
        "print(data1.head(14))"
      ],
      "execution_count": 4,
      "outputs": [
        {
          "output_type": "stream",
          "text": [
            "First 14\n",
            "   LocationType Location  TimeFrame DataFormat     Data\n",
            "0         State    Texas       2010     Number  1708600\n",
            "1         State    Texas       2010    Percent  0.25608\n",
            "2         State    Texas       2012     Number  1909470\n",
            "3         State    Texas       2012    Percent    0.274\n",
            "4         State    Texas       2011     Number  1894060\n",
            "5         State    Texas       2011    Percent  0.27562\n",
            "6         State    Texas       2013     Number  1899310\n",
            "7         State    Texas       2013    Percent  0.27427\n",
            "8         State    Texas       2014     Number  1821820\n",
            "9         State    Texas       2014    Percent    0.256\n",
            "10        State    Texas       2015     Number  1713430\n",
            "11        State    Texas       2016     Number  1676740\n",
            "12        State    Texas       2015    Percent    0.238\n",
            "13        State    Texas       2016    Percent     0.23\n"
          ],
          "name": "stdout"
        }
      ]
    },
    {
      "metadata": {
        "id": "71B8Zyy2LYK8",
        "colab_type": "code",
        "colab": {}
      },
      "cell_type": "code",
      "source": [
        ""
      ],
      "execution_count": 0,
      "outputs": []
    },
    {
      "metadata": {
        "id": "csTZggz9MV-M",
        "colab_type": "text"
      },
      "cell_type": "markdown",
      "source": [
        "##**Merge**\n",
        "Merge SNAP Receipients, 2004-2013 (i.e., \"data2.xlsx\") and SNAP Receipients, 2014-2015 (i.e., \"data3.xlsx\")"
      ]
    },
    {
      "metadata": {
        "id": "tfjRqXfNlwk5",
        "colab_type": "text"
      },
      "cell_type": "markdown",
      "source": [
        "##**Analysis**"
      ]
    },
    {
      "metadata": {
        "id": "bhsrVExE9_VX",
        "colab_type": "text"
      },
      "cell_type": "markdown",
      "source": [
        ""
      ]
    },
    {
      "metadata": {
        "id": "bTYbo0Sm99Pq",
        "colab_type": "code",
        "colab": {}
      },
      "cell_type": "code",
      "source": [
        ""
      ],
      "execution_count": 0,
      "outputs": []
    },
    {
      "metadata": {
        "id": "YsezTjkcKJbZ",
        "colab_type": "text"
      },
      "cell_type": "markdown",
      "source": [
        "##**Conclusion**\n"
      ]
    }
  ]
}