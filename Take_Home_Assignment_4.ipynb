{
  "nbformat": 4,
  "nbformat_minor": 0,
  "metadata": {
    "colab": {
      "name": "Take Home Assignment 4.ipynb",
      "version": "0.3.2",
      "provenance": [],
      "include_colab_link": true
    },
    "kernelspec": {
      "name": "python3",
      "display_name": "Python 3"
    }
  },
  "cells": [
    {
      "cell_type": "markdown",
      "metadata": {
        "id": "view-in-github",
        "colab_type": "text"
      },
      "source": [
        "<a href=\"https://colab.research.google.com/github/mirandabad/THA4/blob/master/Take_Home_Assignment_4.ipynb\" target=\"_parent\"><img src=\"https://colab.research.google.com/assets/colab-badge.svg\" alt=\"Open In Colab\"/></a>"
      ]
    },
    {
      "metadata": {
        "id": "4xwL0LtJ9erZ",
        "colab_type": "text"
      },
      "cell_type": "markdown",
      "source": [
        "# **Take Home Assignment 4**\n",
        "- Complete THA3 but with a different research question and dataset.\n",
        "- Build a workflow showing all important phases/components of your work.\n",
        "- Update your GitHub repository accordingly, indicate the files of this assignment in the readme file.\n",
        "---"
      ]
    },
    {
      "metadata": {
        "id": "eZs6_e0OHR3V",
        "colab_type": "text"
      },
      "cell_type": "markdown",
      "source": [
        "##**Research Question:** \n",
        "As the number of Texas children (aged 0-17) receiving aid from the Supplemental Nutrition Assistance Program (SNAP) changes, is there any relation with the level of food insecurity for children in Texas?\n",
        "\n",
        "Hypothesis: Yes, there is an inverse relationship. As the number/percentage of SNAP recipients (under 18) in Texas goes up, the level of food insecurity for children goes down and as the number/percentage of Texas SNAP recipients (under 18) goes down, the level of food insecurity goes up."
      ]
    },
    {
      "metadata": {
        "id": "7xVEBVrWGyq1",
        "colab_type": "text"
      },
      "cell_type": "markdown",
      "source": [
        "##**Data Sources**\n",
        "\n",
        "The three data sources used are all from the Annie E. Casey Foundation's [Kids Count Data Center](https://datacenter.kidscount.org/). Kids Count collects natioanl data on children and families. Texas specific data is collected by the [Center for Public Policy Priorities](https://forabettertexas.org/kidscount.html)\n",
        "> - The first data source contains data on [Child Food Insecurity in Texas, 2010-2016](https://datacenter.kidscount.org/data/tables/7889-child-food-insecurity?loc=45&loct=2#detailed/2/any/false/870,573,869,36,868,867,133/any/15218,15219). The data contains the number and precentage of children estimated to be experiencing food insecurity in Texas in the years 2010-2016. To be considered food insecure a child must be \"living in a household that has difficulty meeting basic food needs, as defined by the Census Bureau's Current Population Survey.\" (Kids Count)\n",
        ">>- Kids Count/CPPP's source of the data was from [Feeding America's](https://www.feedingamerica.org/) analysis of Current Population Survey data on food-insecure households and American Community survey data on household income, unemployment, poverty, homeownership, race and ethnicity. They note that state totals do not reflect the sum of all counties in Texas and are aggregated from congressional district data.\n",
        "\n",
        "> - The second data source contains [Supplemental Nutrition Assistance Program (SNAP)](https://datacenter.kidscount.org/data/tables/3148-supplemental-nutrition-assistance-snap-formerly-food-stamps-recipients-0-17?loc=45&loct=2l) numbers and percentages for Texas children (under the age of 18) enrolled in SNAP in the years 2004-2013.\n",
        "> - The third data source contains [SNAP](https://datacenter.kidscount.org/data/tables/8984-supplemental-nutrition-assistance-snap-formerly-food-stamps-recipients-0-17?loc=45&loct=2) numbers and perecentages for Texas children from 2014-2015.\n",
        ">>- Data from both the second and third sources come from the Texas [Health and Human Services Commission](https://hhs.texas.gov) \n",
        "> - *Note: All of the above data sets have been downloaded and saved as \"data1.xls,\" \"data2.xlsx,\" and \"data3.xlsx\" respectively. Merged data includes state numbers from SNAP Youth Recipients, 2004-2013  and Snap Youth Recipients, 2014-2015 (i.e., \"data2.xlsx\" and \"data3.xlsx\").*"
      ]
    },
    {
      "metadata": {
        "id": "wQwnNuGFlve9",
        "colab_type": "text"
      },
      "cell_type": "markdown",
      "source": [
        "##**Importing Child Food Insecurity Data**\n",
        "Import state specific info for child food insecurity numbers and percentages (i.e., \"Location\" = \"Texas\") for the years (i.e., \"Time Frame\") 2010-2016."
      ]
    },
    {
      "metadata": {
        "id": "el7OfmCu9HOq",
        "colab_type": "code",
        "colab": {
          "base_uri": "https://localhost:8080/",
          "height": 289
        },
        "outputId": "9c662a7a-7f08-4cb6-f46d-4f56d245da8e"
      },
      "cell_type": "code",
      "source": [
        "import pandas as pd\n",
        "\n",
        "#The raw dataset was downloaded at: https://datacenter.kidscount.org/rawdata.axd?ind=7889&loc=45\n",
        "\n",
        "data1 = pd.read_excel(\"data1.xlsx\")\n",
        "data1.dropna(how='all')\n",
        "\n",
        "print(\"First 14\")\n",
        "print(data1.head(14))"
      ],
      "execution_count": 4,
      "outputs": [
        {
          "output_type": "stream",
          "text": [
            "First 14\n",
            "   LocationType Location  TimeFrame DataFormat     Data\n",
            "0         State    Texas       2010     Number  1708600\n",
            "1         State    Texas       2010    Percent  0.25608\n",
            "2         State    Texas       2012     Number  1909470\n",
            "3         State    Texas       2012    Percent    0.274\n",
            "4         State    Texas       2011     Number  1894060\n",
            "5         State    Texas       2011    Percent  0.27562\n",
            "6         State    Texas       2013     Number  1899310\n",
            "7         State    Texas       2013    Percent  0.27427\n",
            "8         State    Texas       2014     Number  1821820\n",
            "9         State    Texas       2014    Percent    0.256\n",
            "10        State    Texas       2015     Number  1713430\n",
            "11        State    Texas       2016     Number  1676740\n",
            "12        State    Texas       2015    Percent    0.238\n",
            "13        State    Texas       2016    Percent     0.23\n"
          ],
          "name": "stdout"
        }
      ]
    },
    {
      "metadata": {
        "id": "R0IPXedLNhAS",
        "colab_type": "text"
      },
      "cell_type": "markdown",
      "source": [
        "##**Importing SNAP Recipient Data, 2004-2013**\n",
        "Import state specific info for numbers and percentage of SNAP recipients (i.e., \"Location\" = \"Texas\") for the years (i.e., \"Time Frame\") 1995-2013."
      ]
    },
    {
      "metadata": {
        "id": "71B8Zyy2LYK8",
        "colab_type": "code",
        "colab": {
          "base_uri": "https://localhost:8080/",
          "height": 697
        },
        "outputId": "bc85c1cc-1e47-4679-9dfe-27ebff877f79"
      },
      "cell_type": "code",
      "source": [
        "import pandas as pd\n",
        "\n",
        "#The raw dataset was downloaded at: https://datacenter.kidscount.org/rawdata.axd?ind=3148&loc=45\n",
        "\n",
        "data1 = pd.read_excel(\"data2.xlsx\")\n",
        "data1.dropna(how='all')\n",
        "\n",
        "print(\"First 38\")\n",
        "print(data1.head(38))"
      ],
      "execution_count": 6,
      "outputs": [
        {
          "output_type": "stream",
          "text": [
            "First 38\n",
            "   LocationType Location  TimeFrame DataFormat          Data\n",
            "0         State    Texas       1995     Number  1.059976e+06\n",
            "1         State    Texas       1996     Number  1.004176e+06\n",
            "2         State    Texas       1997     Number  9.385370e+05\n",
            "3         State    Texas       1998     Number  7.557710e+05\n",
            "4         State    Texas       1999     Number  5.709200e+05\n",
            "5         State    Texas       2000     Number  5.396960e+05\n",
            "6         State    Texas       2001     Number  5.536340e+05\n",
            "7         State    Texas       2002     Number  6.573330e+05\n",
            "8         State    Texas       2003     Number  7.279300e+05\n",
            "9         State    Texas       2004     Number  1.158212e+06\n",
            "10        State    Texas       2005     Number  1.292354e+06\n",
            "11        State    Texas       2006     Number  1.535953e+06\n",
            "12        State    Texas       1995    Percent  1.960000e-01\n",
            "13        State    Texas       1996    Percent  1.820000e-01\n",
            "14        State    Texas       1997    Percent  1.670000e-01\n",
            "15        State    Texas       1998    Percent  1.330000e-01\n",
            "16        State    Texas       1999    Percent  9.900000e-02\n",
            "17        State    Texas       2000    Percent  9.200000e-02\n",
            "18        State    Texas       2001    Percent  9.300000e-02\n",
            "19        State    Texas       2002    Percent  1.090000e-01\n",
            "20        State    Texas       2003    Percent  1.570000e-01\n",
            "21        State    Texas       2004    Percent  1.880000e-01\n",
            "22        State    Texas       2005    Percent  2.070000e-01\n",
            "23        State    Texas       2006    Percent  2.410000e-01\n",
            "24        State    Texas       2007     Number  1.317029e+06\n",
            "25        State    Texas       2007    Percent  2.050000e-01\n",
            "26        State    Texas       2008     Number  1.331273e+06\n",
            "27        State    Texas       2008    Percent  2.050000e-01\n",
            "28        State    Texas       2009     Number  1.600995e+06\n",
            "29        State    Texas       2009    Percent  2.440000e-01\n",
            "30        State    Texas       2010     Number  1.809902e+06\n",
            "31        State    Texas       2010    Percent  2.640000e-01\n",
            "32        State    Texas       2011     Number  2.024531e+06\n",
            "33        State    Texas       2011    Percent  2.912100e-01\n",
            "34        State    Texas       2012     Number  1.971645e+06\n",
            "35        State    Texas       2012    Percent  2.818100e-01\n",
            "36        State    Texas       2013    Percent  2.750000e-01\n",
            "37        State    Texas       2013     Number  1.937185e+06\n"
          ],
          "name": "stdout"
        }
      ]
    },
    {
      "metadata": {
        "id": "zjIxjDciOxeA",
        "colab_type": "text"
      },
      "cell_type": "markdown",
      "source": [
        "##**Importing SNAP Recipient Data, 2014-2015**\n",
        "Import state specific info for numbers and percentage of SNAP recipients (i.e., \"Location\" = \"Texas\") for the years (i.e., \"Time Frame\") 2014-2015."
      ]
    },
    {
      "metadata": {
        "id": "tEqJ0qLIOw2z",
        "colab_type": "code",
        "colab": {
          "base_uri": "https://localhost:8080/",
          "height": 119
        },
        "outputId": "ef848683-7715-457e-84eb-76961b09f0e0"
      },
      "cell_type": "code",
      "source": [
        "import pandas as pd\n",
        "\n",
        "#The raw dataset was downloaded at: https://datacenter.kidscount.org/rawdata.axd?ind=3148&loc=45\n",
        "\n",
        "data1 = pd.read_excel(\"data3.xlsx\")\n",
        "data1.dropna(how='all')\n",
        "\n",
        "print(\"First 4\")\n",
        "print(data1.head(4))"
      ],
      "execution_count": 7,
      "outputs": [
        {
          "output_type": "stream",
          "text": [
            "First 4\n",
            "  LocationType Location  TimeFrame DataFormat          Data\n",
            "0        State    Texas       2014    Percent  2.513500e-01\n",
            "1        State    Texas       2014     Number  1.855170e+06\n",
            "2        State    Texas       2015    Percent  2.893100e-01\n",
            "3        State    Texas       2015     Number  2.094210e+06\n"
          ],
          "name": "stdout"
        }
      ]
    },
    {
      "metadata": {
        "id": "csTZggz9MV-M",
        "colab_type": "text"
      },
      "cell_type": "markdown",
      "source": [
        "##**Merge**\n",
        "Merge SNAP Recipients, 2004-2013 (i.e., \"data2.xlsx\") and SNAP Recipients, 2014-2015 (i.e., \"data3.xlsx\")"
      ]
    },
    {
      "metadata": {
        "id": "b3eTR7IeNdad",
        "colab_type": "code",
        "colab": {}
      },
      "cell_type": "code",
      "source": [
        ""
      ],
      "execution_count": 0,
      "outputs": []
    },
    {
      "metadata": {
        "id": "tfjRqXfNlwk5",
        "colab_type": "text"
      },
      "cell_type": "markdown",
      "source": [
        "##**Analysis**"
      ]
    },
    {
      "metadata": {
        "id": "bhsrVExE9_VX",
        "colab_type": "text"
      },
      "cell_type": "markdown",
      "source": [
        ""
      ]
    },
    {
      "metadata": {
        "id": "bTYbo0Sm99Pq",
        "colab_type": "code",
        "colab": {}
      },
      "cell_type": "code",
      "source": [
        ""
      ],
      "execution_count": 0,
      "outputs": []
    },
    {
      "metadata": {
        "id": "YsezTjkcKJbZ",
        "colab_type": "text"
      },
      "cell_type": "markdown",
      "source": [
        "##**Conclusion**\n",
        "Question: As the number of Texas children (aged 0-17) receiving aid from the Supplemental Nutrition Assistance Program (SNAP) changes, is there any relation with the level of food insecurity for children in Texas?"
      ]
    }
  ]
}