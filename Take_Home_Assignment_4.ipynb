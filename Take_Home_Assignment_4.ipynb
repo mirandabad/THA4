{
  "nbformat": 4,
  "nbformat_minor": 0,
  "metadata": {
    "colab": {
      "name": "Take Home Assignment 4.ipynb",
      "version": "0.3.2",
      "provenance": [],
      "collapsed_sections": [],
      "include_colab_link": true
    },
    "kernelspec": {
      "name": "python3",
      "display_name": "Python 3"
    }
  },
  "cells": [
    {
      "cell_type": "markdown",
      "metadata": {
        "id": "view-in-github",
        "colab_type": "text"
      },
      "source": [
        "<a href=\"https://colab.research.google.com/github/mirandabad/THA4/blob/master/Take_Home_Assignment_4.ipynb\" target=\"_parent\"><img src=\"https://colab.research.google.com/assets/colab-badge.svg\" alt=\"Open In Colab\"/></a>"
      ]
    },
    {
      "metadata": {
        "id": "4xwL0LtJ9erZ",
        "colab_type": "text"
      },
      "cell_type": "markdown",
      "source": [
        "# **Take Home Assignment 4**\n",
        "- Complete THA3 but with a different research question and dataset.\n",
        "- Build a workflow showing all important phases/components of your work.\n",
        "- Update your GitHub repository accordingly, indicate the files of this assignment in the readme file.\n",
        "---"
      ]
    },
    {
      "metadata": {
        "id": "eZs6_e0OHR3V",
        "colab_type": "text"
      },
      "cell_type": "markdown",
      "source": [
        "##**Research Question:** \n",
        "As the number of Texas children (aged 0-17) receiving aid from the Supplemental Nutrition Assistance Program (SNAP) changed, was there any relation with the level of food insecurity for children in Texas during the years 2010-2015?\n",
        "\n",
        "Hypothesis: Yes, there is an inverse relationship. As the number/percentage of SNAP recipients (under 18) in Texas goes up, the level of food insecurity for children goes down and as the number/percentage of Texas SNAP recipients (under 18) goes down, the level of food insecurity goes up."
      ]
    },
    {
      "metadata": {
        "id": "7xVEBVrWGyq1",
        "colab_type": "text"
      },
      "cell_type": "markdown",
      "source": [
        "##**Data Sources**\n",
        "\n",
        "The three data sources used are all from the Annie E. Casey Foundation's [Kids Count Data Center](https://datacenter.kidscount.org/). Kids Count collects natioanl data on children and families. Texas specific data is collected by the [Center for Public Policy Priorities](https://forabettertexas.org/kidscount.html)\n",
        "> - The first data source contains data on [Child Food Insecurity in Texas, 2010-2016](https://datacenter.kidscount.org/data/tables/7889-child-food-insecurity?loc=45&loct=2#detailed/2/any/false/870,573,869,36,868,867,133/any/15218,15219). The data contains the number and precentage of children estimated to be experiencing food insecurity in Texas in the years 2010-2016. To be considered food insecure a child must be \"living in a household that has difficulty meeting basic food needs, as defined by the Census Bureau's Current Population Survey.\" (Kids Count)\n",
        ">>- Kids Count/CPPP's source of the data was from [Feeding America's](https://www.feedingamerica.org/) analysis of Current Population Survey data on food-insecure households and American Community survey data on household income, unemployment, poverty, homeownership, race and ethnicity. They note that state totals do not reflect the sum of all counties in Texas and are aggregated from congressional district data.\n",
        "\n",
        "> - The second data source contains [Supplemental Nutrition Assistance Program (SNAP)](https://datacenter.kidscount.org/data/tables/3148-supplemental-nutrition-assistance-snap-formerly-food-stamps-recipients-0-17?loc=45&loct=2l) numbers and percentages for Texas children (under the age of 18) enrolled in SNAP in the years 2004-2013.\n",
        "> - The third data source contains [SNAP](https://datacenter.kidscount.org/data/tables/8984-supplemental-nutrition-assistance-snap-formerly-food-stamps-recipients-0-17?loc=45&loct=2) numbers and perecentages for Texas children from 2014-2015.\n",
        ">>- Data from both the second and third sources come from the Texas [Health and Human Services Commission](https://hhs.texas.gov) \n",
        "> - *Note: All of the above data sets have been downloaded and saved as \"data1.xls,\" \"data2.xlsx,\" and \"data3.xlsx\" respectively. Merged data includes state numbers from SNAP Youth Recipients, 2004-2013  and Snap Youth Recipients, 2014-2015 (i.e., \"data2.xlsx\" and \"data3.xlsx\").*"
      ]
    },
    {
      "metadata": {
        "id": "wQwnNuGFlve9",
        "colab_type": "text"
      },
      "cell_type": "markdown",
      "source": [
        "##**Importing Child Food Insecurity Data**\n",
        "Import state specific info for child food insecurity numbers and percentages (i.e., \"Location\" = \"Texas\") for the years (i.e., \"Time Frame\") 2010-2016. Remove data for counties, percentages, and 2016."
      ]
    },
    {
      "metadata": {
        "id": "el7OfmCu9HOq",
        "colab_type": "code",
        "colab": {
          "base_uri": "https://localhost:8080/",
          "height": 136
        },
        "outputId": "312d3d5f-70b1-4f52-e439-94df946b280e"
      },
      "cell_type": "code",
      "source": [
        "import pandas as pd\n",
        "\n",
        "#The raw dataset was downloaded at: https://datacenter.kidscount.org/rawdata.axd?ind=7889&loc=45\n",
        "\n",
        "data1 = pd.read_excel(\"data1.xlsx\")\n",
        "#Remove all county data for 2010-2016\n",
        "filtered1 = data1.loc[data1[(data1[\"Location\"]==\"Texas\")].index, :]\n",
        "#Remove all percent data for 2010-2016\n",
        "filtered2 = filtered1.loc[filtered1[(filtered1[\"DataFormat\"]==\"Number\")].index, :]\n",
        "#Remove 2016 data\n",
        "food_insecurity_data = filtered2.loc[filtered2[(filtered2[\"TimeFrame\"]<2016)].index, :]\n",
        "#Rename \"Data\" column to \"ChildFoodInsecurity\" and sort \"TimeFrame\" by ascending years\n",
        "food_insecurity_data.rename(columns={\"Data\":\"ChildFoodInsecurity\"}, inplace=True)\n",
        "food_insecurity_data = food_insecurity_data.sort_values(\"TimeFrame\", axis=0, ascending=True)\n",
        "\n",
        "\n",
        "print(food_insecurity_data)\n"
      ],
      "execution_count": 304,
      "outputs": [
        {
          "output_type": "stream",
          "text": [
            "   LocationType Location  TimeFrame DataFormat ChildFoodInsecurity\n",
            "0         State    Texas       2010     Number             1708600\n",
            "4         State    Texas       2011     Number             1894060\n",
            "2         State    Texas       2012     Number             1909470\n",
            "6         State    Texas       2013     Number             1899310\n",
            "8         State    Texas       2014     Number             1821820\n",
            "10        State    Texas       2015     Number             1713430\n"
          ],
          "name": "stdout"
        }
      ]
    },
    {
      "metadata": {
        "id": "R0IPXedLNhAS",
        "colab_type": "text"
      },
      "cell_type": "markdown",
      "source": [
        "##**Importing SNAP Recipient Data, 2004-2013**\n",
        "Import state specific info for numbers and percentage of SNAP recipients (i.e., \"Location\" = \"Texas\") for the years (i.e., \"Time Frame\") 2004-2013. Remove county data, remove percent data, and display only the years needed (i.e., 2010-2013)."
      ]
    },
    {
      "metadata": {
        "id": "71B8Zyy2LYK8",
        "colab_type": "code",
        "colab": {
          "base_uri": "https://localhost:8080/",
          "height": 102
        },
        "outputId": "f1285625-5303-4242-abb5-7b7daf2d9b1c"
      },
      "cell_type": "code",
      "source": [
        "import pandas as pd\n",
        "\n",
        "#The raw dataset was downloaded at: https://datacenter.kidscount.org/rawdata.axd?ind=3148&loc=45\n",
        "\n",
        "data2 = pd.read_excel(\"data2.xlsx\")\n",
        "\n",
        "#Remove all county data for 1995-2013\n",
        "filtered1 = data2.loc[data2[(data2[\"Location\"]==\"Texas\")].index, :]\n",
        "#Remove all percent data for 1995-2013\n",
        "filtered2 = filtered1.loc[filtered1[(filtered1[\"DataFormat\"]==\"Number\")].index, :]\n",
        "#Remove 1995-2009 data\n",
        "snap_data = filtered2.loc[filtered2[(filtered2[\"TimeFrame\"]>2009)].index, :]\n",
        "#Rename \"Data\" column to \"ChildSNAPRecipients\"\n",
        "snap_data.rename(columns={\"Data\":\"ChildSNAPRecipients\"}, inplace=True)\n",
        "\n",
        "print(snap_data)"
      ],
      "execution_count": 305,
      "outputs": [
        {
          "output_type": "stream",
          "text": [
            "   LocationType Location  TimeFrame DataFormat  ChildSNAPRecipients\n",
            "30        State    Texas       2010     Number            1809902.0\n",
            "32        State    Texas       2011     Number            2024531.0\n",
            "34        State    Texas       2012     Number            1971645.0\n",
            "37        State    Texas       2013     Number            1937185.0\n"
          ],
          "name": "stdout"
        }
      ]
    },
    {
      "metadata": {
        "id": "zjIxjDciOxeA",
        "colab_type": "text"
      },
      "cell_type": "markdown",
      "source": [
        "##**Importing SNAP Recipient Data, 2014-2015**\n",
        "Import state specific info for numbers and percentage of SNAP recipients (i.e., \"Location\" = \"Texas\") for the years (i.e., \"Time Frame\") 2014-2015. Remove county data and percent data."
      ]
    },
    {
      "metadata": {
        "id": "tEqJ0qLIOw2z",
        "colab_type": "code",
        "colab": {
          "base_uri": "https://localhost:8080/",
          "height": 68
        },
        "outputId": "d02ac288-7c43-4f82-a523-08937ff3154e"
      },
      "cell_type": "code",
      "source": [
        "import pandas as pd\n",
        "\n",
        "#The raw dataset was downloaded at: https://datacenter.kidscount.org/rawdata.axd?ind=8984&loc=45\n",
        "\n",
        "data3 = pd.read_excel(\"data3.xlsx\")\n",
        "\n",
        "\n",
        "#Remove all county data\n",
        "data3 = data3[data3[\"Location\"]==\"Texas\"]\n",
        "#Remove percent data\n",
        "data3 = data3[data3[\"DataFormat\"]==\"Number\"]\n",
        "#Rename \"Data\" column to \"ChildSNAPRecipients\"\n",
        "data3.rename(columns={\"Data\":\"ChildSNAPRecipients\"}, inplace=True)\n",
        "\n",
        "print(data3)"
      ],
      "execution_count": 306,
      "outputs": [
        {
          "output_type": "stream",
          "text": [
            "  LocationType Location  TimeFrame DataFormat  ChildSNAPRecipients\n",
            "1        State    Texas       2014     Number            1855170.0\n",
            "3        State    Texas       2015     Number            2094210.0\n"
          ],
          "name": "stdout"
        }
      ]
    },
    {
      "metadata": {
        "id": "csTZggz9MV-M",
        "colab_type": "text"
      },
      "cell_type": "markdown",
      "source": [
        "##**Merge**\n",
        "Merge data for SNAP Recipients, 2010-2013 (i.e., \"snap_data\") and data for SNAP Recipients, 2014-2015 (i.e., \"data3\") into one dataset (i.e., \"snap_data_merged\"). Then merged combined SNAP recipient dataset (i.e., \"snap_data_merged\") into one final dataset with data for Child Food Insecurity in Texas, 2010-2015 (i.e., \"food_insecurity_data\")."
      ]
    },
    {
      "metadata": {
        "id": "RPLHtFniUtc3",
        "colab_type": "code",
        "colab": {
          "base_uri": "https://localhost:8080/",
          "height": 136
        },
        "outputId": "22b9a0d2-2f1c-4d27-a492-013baa72b119"
      },
      "cell_type": "code",
      "source": [
        "snap_data[['TimeFrame','DataFormat','ChildSNAPRecipients']]\n",
        "data3[['TimeFrame','DataFormat','ChildSNAPRecipients']]\n",
        "snap_data_merged = pd.concat([snap_data,data3])\n",
        "print(snap_data_merged)"
      ],
      "execution_count": 307,
      "outputs": [
        {
          "output_type": "stream",
          "text": [
            "   LocationType Location  TimeFrame DataFormat  ChildSNAPRecipients\n",
            "30        State    Texas       2010     Number            1809902.0\n",
            "32        State    Texas       2011     Number            2024531.0\n",
            "34        State    Texas       2012     Number            1971645.0\n",
            "37        State    Texas       2013     Number            1937185.0\n",
            "1         State    Texas       2014     Number            1855170.0\n",
            "3         State    Texas       2015     Number            2094210.0\n"
          ],
          "name": "stdout"
        }
      ]
    },
    {
      "metadata": {
        "id": "CPiAxFAEGb7L",
        "colab_type": "code",
        "colab": {
          "base_uri": "https://localhost:8080/",
          "height": 235
        },
        "outputId": "2cafb4d9-7066-4630-d73e-24ee7c8e084b"
      },
      "cell_type": "code",
      "source": [
        "#merge child food insecurity data with child SNAP recipient data for 2010-2015\n",
        "joi= food_insecurity_data.merge(snap_data_merged, on=\"TimeFrame\")\n",
        "joi = joi.drop(columns=[\"LocationType_y\",\"Location_y\",\"DataFormat_y\"])\n",
        "joi"
      ],
      "execution_count": 308,
      "outputs": [
        {
          "output_type": "execute_result",
          "data": {
            "text/html": [
              "<div>\n",
              "<style scoped>\n",
              "    .dataframe tbody tr th:only-of-type {\n",
              "        vertical-align: middle;\n",
              "    }\n",
              "\n",
              "    .dataframe tbody tr th {\n",
              "        vertical-align: top;\n",
              "    }\n",
              "\n",
              "    .dataframe thead th {\n",
              "        text-align: right;\n",
              "    }\n",
              "</style>\n",
              "<table border=\"1\" class=\"dataframe\">\n",
              "  <thead>\n",
              "    <tr style=\"text-align: right;\">\n",
              "      <th></th>\n",
              "      <th>LocationType_x</th>\n",
              "      <th>Location_x</th>\n",
              "      <th>TimeFrame</th>\n",
              "      <th>DataFormat_x</th>\n",
              "      <th>ChildFoodInsecurity</th>\n",
              "      <th>ChildSNAPRecipients</th>\n",
              "    </tr>\n",
              "  </thead>\n",
              "  <tbody>\n",
              "    <tr>\n",
              "      <th>0</th>\n",
              "      <td>State</td>\n",
              "      <td>Texas</td>\n",
              "      <td>2010</td>\n",
              "      <td>Number</td>\n",
              "      <td>1708600</td>\n",
              "      <td>1809902.0</td>\n",
              "    </tr>\n",
              "    <tr>\n",
              "      <th>1</th>\n",
              "      <td>State</td>\n",
              "      <td>Texas</td>\n",
              "      <td>2011</td>\n",
              "      <td>Number</td>\n",
              "      <td>1894060</td>\n",
              "      <td>2024531.0</td>\n",
              "    </tr>\n",
              "    <tr>\n",
              "      <th>2</th>\n",
              "      <td>State</td>\n",
              "      <td>Texas</td>\n",
              "      <td>2012</td>\n",
              "      <td>Number</td>\n",
              "      <td>1909470</td>\n",
              "      <td>1971645.0</td>\n",
              "    </tr>\n",
              "    <tr>\n",
              "      <th>3</th>\n",
              "      <td>State</td>\n",
              "      <td>Texas</td>\n",
              "      <td>2013</td>\n",
              "      <td>Number</td>\n",
              "      <td>1899310</td>\n",
              "      <td>1937185.0</td>\n",
              "    </tr>\n",
              "    <tr>\n",
              "      <th>4</th>\n",
              "      <td>State</td>\n",
              "      <td>Texas</td>\n",
              "      <td>2014</td>\n",
              "      <td>Number</td>\n",
              "      <td>1821820</td>\n",
              "      <td>1855170.0</td>\n",
              "    </tr>\n",
              "    <tr>\n",
              "      <th>5</th>\n",
              "      <td>State</td>\n",
              "      <td>Texas</td>\n",
              "      <td>2015</td>\n",
              "      <td>Number</td>\n",
              "      <td>1713430</td>\n",
              "      <td>2094210.0</td>\n",
              "    </tr>\n",
              "  </tbody>\n",
              "</table>\n",
              "</div>"
            ],
            "text/plain": [
              "  LocationType_x Location_x  TimeFrame DataFormat_x ChildFoodInsecurity  \\\n",
              "0          State      Texas       2010       Number             1708600   \n",
              "1          State      Texas       2011       Number             1894060   \n",
              "2          State      Texas       2012       Number             1909470   \n",
              "3          State      Texas       2013       Number             1899310   \n",
              "4          State      Texas       2014       Number             1821820   \n",
              "5          State      Texas       2015       Number             1713430   \n",
              "\n",
              "   ChildSNAPRecipients  \n",
              "0            1809902.0  \n",
              "1            2024531.0  \n",
              "2            1971645.0  \n",
              "3            1937185.0  \n",
              "4            1855170.0  \n",
              "5            2094210.0  "
            ]
          },
          "metadata": {
            "tags": []
          },
          "execution_count": 308
        }
      ]
    },
    {
      "metadata": {
        "id": "tfjRqXfNlwk5",
        "colab_type": "text"
      },
      "cell_type": "markdown",
      "source": [
        "##**Analysis**"
      ]
    },
    {
      "metadata": {
        "id": "bhsrVExE9_VX",
        "colab_type": "text"
      },
      "cell_type": "markdown",
      "source": [
        "To create a visual graph of data trends, merge the number of Texas children (under the age of 18) experiencing food insecurity (i.e., \"food_insecurity_data\") with the number of Texas children receiving SNAP (snap_data_merged) for the years 2010-2015. \n",
        "\n",
        "After receiving multiple error messages, the raw data for Child Food Insecurity was later found to be in strings, rather than in numbers. This then had to be converted to numbers.\n",
        "\n",
        "The x-axis consisted on the years 2010-2015, while the two series for the y-axis were the number of Texas children experiencing food insecurity and the number of Texas children receiving SNAP benefits during the 2010-2015 time frame. This graph was replicated with the same variables on each axis, however, percentages were used instead of numbers. The graphs (and coding) can be seen below:"
      ]
    },
    {
      "metadata": {
        "id": "NS9WQJZXbKgp",
        "colab_type": "code",
        "colab": {
          "base_uri": "https://localhost:8080/",
          "height": 283
        },
        "outputId": "5985068e-8b68-482a-8734-7cdb63ba48e4"
      },
      "cell_type": "code",
      "source": [
        "import pandas as pd\n",
        "import matplotlib.pyplot as plt\n",
        "\n",
        "# Convert \"ChildFoodInsecurity\" from string to float64 (i.e., numbers)\n",
        "joi['ChildFoodInsecurity'] = joi['ChildFoodInsecurity'].astype('float64') \n",
        "# Plot \"ChildFoodInsecurity\" and \"ChildSNAPRecipients\" on the x-axis over \"TimeFrame\" on the y-axis \n",
        "joi.plot(kind=\"line\", x=\"TimeFrame\", y=['ChildFoodInsecurity', \"ChildSNAPRecipients\"])\n",
        "plt.show()"
      ],
      "execution_count": 312,
      "outputs": [
        {
          "output_type": "display_data",
          "data": {
            "image/png": "[encoded data removed]",
            "text/plain": [
              "<Figure size 432x288 with 1 Axes>"
            ]
          },
          "metadata": {
            "tags": []
          }
        }
      ]
    },
    {
      "metadata": {
        "id": "YsezTjkcKJbZ",
        "colab_type": "text"
      },
      "cell_type": "markdown",
      "source": [
        "##**Conclusion**\n",
        "Question: As the number of Texas children (aged 0-17) receiving aid from the Supplemental Nutrition Assistance Program (SNAP) changes, is there any relation with the level of food insecurity for children in Texas?\n",
        "\n",
        "Answer: There appears to have been a small correlation between child food insecurity in Texas and child SNAP recipients in the years 2010-2015. When the number of children receiving SNAP was higher during this time period, the number of children experiencing food insecurity was lower. Further longitudinal analysis would be necessary to determine if there is a stronger correlation."
      ]
    }
  ]
}